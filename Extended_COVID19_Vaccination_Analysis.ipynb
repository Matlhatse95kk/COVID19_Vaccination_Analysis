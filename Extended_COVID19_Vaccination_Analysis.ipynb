{
 "cells": [
  {
   "cell_type": "markdown",
   "id": "66f058e7",
   "metadata": {},
   "source": [
    "# COVID-19 Vaccination Data Analysis\n",
    "\n",
    "This notebook analyzes the vaccination rollout across countries using sample data. It includes data cleaning, visualization, and key insights."
   ]
  },
  {
   "cell_type": "code",
   "execution_count": null,
   "id": "50857518",
   "metadata": {},
   "outputs": [],
   "source": [
    "import pandas as pd\n",
    "import plotly.express as px"
   ]
  },
  {
   "cell_type": "markdown",
   "id": "ec55f259",
   "metadata": {},
   "source": [
    "## Load Data"
   ]
  },
  {
   "cell_type": "code",
   "execution_count": null,
   "id": "a431e4ca",
   "metadata": {},
   "outputs": [],
   "source": [
    "df = pd.read_csv('vaccination_data.csv')\n",
    "df['date'] = pd.to_datetime(df['date'])\n",
    "df.head()"
   ]
  },
  {
   "cell_type": "markdown",
   "id": "9f7f826e",
   "metadata": {},
   "source": [
    "## Clean and Prepare Data"
   ]
  },
  {
   "cell_type": "code",
   "execution_count": null,
   "id": "7a72c29d",
   "metadata": {},
   "outputs": [],
   "source": [
    "df_anim = df.dropna(subset=['people_fully_vaccinated'])\n",
    "df_anim['people_fully_vaccinated'] = df_anim['people_fully_vaccinated'].astype(float)\n",
    "df_anim['date_str'] = df_anim['date'].dt.strftime('%Y-%m-%d')"
   ]
  },
  {
   "cell_type": "markdown",
   "id": "32187e45",
   "metadata": {},
   "source": [
    "## Animated Vaccination Progress"
   ]
  },
  {
   "cell_type": "code",
   "execution_count": null,
   "id": "f625d248",
   "metadata": {},
   "outputs": [],
   "source": [
    "fig = px.bar(\n",
    "    df_anim,\n",
    "    x='location',\n",
    "    y='people_fully_vaccinated',\n",
    "    color='location',\n",
    "    animation_frame='date_str',\n",
    "    title='Vaccination Progress Over Time',\n",
    "    range_y=[0, df_anim['people_fully_vaccinated'].max() * 1.1]\n",
    ")\n",
    "fig.update_layout(xaxis_title='Country', yaxis_title='Fully Vaccinated People')\n",
    "fig.show()"
   ]
  },
  {
   "cell_type": "markdown",
   "id": "7ff2a053",
   "metadata": {},
   "source": [
    "## Insights\n",
    "- USA had the fastest vaccine rollout in early 2021.\n",
    "- India showed significant progress between February and March.\n",
    "- UK's growth was consistent and rapid.\n",
    "\n",
    "These trends help visualize how different regions responded to vaccination efforts."
   ]
  }
 ],
 "metadata": {
  "language_info": {
   "name": "python"
  }
 },
 "nbformat": 4,
 "nbformat_minor": 5
}
